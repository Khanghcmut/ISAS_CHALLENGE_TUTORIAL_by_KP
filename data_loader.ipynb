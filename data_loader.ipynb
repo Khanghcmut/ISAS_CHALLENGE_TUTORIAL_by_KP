{
 "cells": [
  {
   "cell_type": "code",
   "execution_count": null,
   "id": "0e71a231",
   "metadata": {},
   "outputs": [],
   "source": [
    "import pandas as pd\n",
    "import seaborn as sns\n",
    "import matplotlib.pyplot as plt"
   ]
  },
  {
   "cell_type": "code",
   "execution_count": null,
   "id": "e003ed96",
   "metadata": {},
   "outputs": [],
   "source": [
    "def fix_labels(label):\n",
    "    if label=='Throwing':\n",
    "        return 'Throwing things'\n",
    "    return label"
   ]
  },
  {
   "cell_type": "markdown",
   "id": "4992d15a",
   "metadata": {},
   "source": [
    "# Label Encoder"
   ]
  },
  {
   "cell_type": "code",
   "execution_count": null,
   "id": "a8993f1b",
   "metadata": {},
   "outputs": [],
   "source": [
    "# import label encoder\n",
    "from sklearn.preprocessing import LabelEncoder\n",
    "data=pd.read_csv('./real_data/keypoints_with_labels_1.csv')\n",
    "data=data.dropna(subset=['Action Label'])\n",
    "y=data['Action Label'].to_numpy()\n",
    "label_encoder = LabelEncoder()\n",
    "data['Action Label'] = label_encoder .fit_transform(y)\n",
    "# data['Action Label'].value_counts().plot(kind='bar')\n",
    "\n"
   ]
  },
  {
   "cell_type": "markdown",
   "id": "ce61cea3",
   "metadata": {},
   "source": [
    "# Load dataset"
   ]
  },
  {
   "cell_type": "code",
   "execution_count": null,
   "id": "cac5e29e",
   "metadata": {},
   "outputs": [],
   "source": [
    "dfs = []\n",
    "import os\n",
    "for file in os.listdir('./real_data/'):\n",
    "    print('file ', file)\n",
    "    if file.endswith('.csv'):\n",
    "        df = pd.read_csv(os.path.join('./real_data/', file)).dropna(subset=['Action Label'])\n",
    "        print(df['Action Label'].unique())\n",
    "        df['Action Label'] = df['Action Label'].apply(fix_labels)\n",
    "        df['Action Label'] = label_encoder.transform(df['Action Label'])\n",
    "        df['Action Label'] =df['Action Label'].astype('category')\n",
    "        df['ID']= file.split('.')[0].split('_')[-1]\n",
    "        df['ID']=df['ID'].astype('category')\n",
    "        dfs.append(df)"
   ]
  },
  {
   "cell_type": "code",
   "execution_count": null,
   "id": "14c2ff11",
   "metadata": {},
   "outputs": [],
   "source": [
    "final_df=pd.concat(dfs, ignore_index=True)\n",
    "final_df['Action Label'].value_counts().plot(kind='bar')"
   ]
  },
  {
   "cell_type": "markdown",
   "id": "9dcb17d5",
   "metadata": {},
   "source": [
    "# Data Visualization"
   ]
  },
  {
   "cell_type": "code",
   "execution_count": null,
   "id": "d5566534",
   "metadata": {},
   "outputs": [],
   "source": [
    "for col in data.columns:\n",
    "    if col in ['Action Label','frame_id']:\n",
    "        continue\n",
    "    sns.boxplot(x='Action Label', y=col, data=final_df)\n",
    "    plt.xticks(rotation=90)\n",
    "\n",
    "    plt.show()"
   ]
  },
  {
   "cell_type": "markdown",
   "id": "104c1c02",
   "metadata": {},
   "source": [
    "# Split train-test"
   ]
  },
  {
   "cell_type": "code",
   "execution_count": null,
   "id": "d82be92b",
   "metadata": {},
   "outputs": [],
   "source": [
    "final_df_train=final_df[final_df['ID']!='1']\n",
    "final_df_test=final_df[final_df['ID']=='1']"
   ]
  },
  {
   "cell_type": "code",
   "execution_count": null,
   "id": "3aa219d7",
   "metadata": {},
   "outputs": [],
   "source": [
    "final_df_test"
   ]
  },
  {
   "cell_type": "markdown",
   "id": "9f07d515",
   "metadata": {},
   "source": [
    "# Extract time series domain features\n",
    "## In this tutorial tsfel was chosen to demonstrate to you. But you can use any library or you may even self writing code for that :)"
   ]
  },
  {
   "cell_type": "code",
   "execution_count": null,
   "id": "a42590be",
   "metadata": {},
   "outputs": [],
   "source": [
    "personal_dir='./tsfel_feat.json'\n",
    "feature_path='./custom_features.py'"
   ]
  },
  {
   "cell_type": "code",
   "execution_count": null,
   "id": "f1c5e3c5",
   "metadata": {},
   "outputs": [],
   "source": [
    "from tsfel.utils.add_personal_features import add_feature_json\n",
    "add_feature_json('./custom_features.py',personal_dir)"
   ]
  },
  {
   "cell_type": "code",
   "execution_count": null,
   "id": "a375746d",
   "metadata": {},
   "outputs": [],
   "source": [
    "import tsfel\n",
    "cfg= tsfel.get_features_by_domain(['statistical','Custom','temporal'],json_path=personal_dir)\n",
    "# You can chose from ['statistical', 'temporal', 'spectral', 'fractal', 'Custom'] domains\n",
    "\n",
    "\n",
    "# Extract time series domain features using TSFEL\n",
    "final_df_train_tsfel = tsfel.time_series_features_extractor(cfg, final_df_train,\n",
    "                                                            window_size=30, overlap=0.5, fs=30,\n",
    "                                                            features_path=feature_path)\n",
    "final_df_test_tsfel = tsfel.time_series_features_extractor(cfg, final_df_test, \n",
    "                                                           window_size=30, overlap=0.5, fs=30,\n",
    "                                                           features_path=feature_path)\n",
    "\n"
   ]
  },
  {
   "cell_type": "code",
   "execution_count": null,
   "id": "b59f517c",
   "metadata": {},
   "outputs": [],
   "source": [
    "# save Action Label as feature\n",
    "label_train = final_df_train_tsfel['Action Label_Mode']\n",
    "label_test = final_df_test_tsfel['Action Label_Mode']\n",
    "\n",
    "# remove Action Label and id columns from train set\n",
    "final_df_train_tsfel = final_df_train_tsfel.loc[:, ~final_df_train_tsfel.columns.str.contains('Action Label|id|ID')]\n",
    "final_df_train_tsfel['Action Label'] = label_train  #add Action Label column back\n",
    "\n",
    "# remove Action Label and id columns from test set\n",
    "final_df_test_tsfel = final_df_test_tsfel.loc[:, ~final_df_test_tsfel.columns.str.contains('Action Label|id|ID')]\n",
    "final_df_test_tsfel['Action Label'] = label_test #add Action Label column back"
   ]
  },
  {
   "cell_type": "code",
   "execution_count": null,
   "id": "a323f44d",
   "metadata": {},
   "outputs": [],
   "source": [
    "X_train = final_df_train_tsfel.drop(columns=['Action Label']).astype(float)\n",
    "y_train= final_df_train_tsfel['Action Label'].astype(int)\n",
    "X_test = final_df_test_tsfel.drop(columns=['Action Label']).astype(float)\n",
    "y_test= final_df_test_tsfel['Action Label'].astype(int)"
   ]
  },
  {
   "cell_type": "code",
   "execution_count": null,
   "id": "622b3462",
   "metadata": {},
   "outputs": [],
   "source": [
    "X_train.shape, y_train.shape, X_test.shape, y_test.shape"
   ]
  },
  {
   "cell_type": "markdown",
   "id": "a4a70387",
   "metadata": {},
   "source": [
    "# Machine learning models"
   ]
  },
  {
   "cell_type": "code",
   "execution_count": null,
   "id": "475cad97",
   "metadata": {},
   "outputs": [],
   "source": [
    "from xgboost import XGBClassifier\n",
    "from sklearn.ensemble import RandomForestClassifier, HistGradientBoostingClassifier\n",
    "from sklearn.metrics import accuracy_score, classification_report, confusion_matrix\n",
    "# model = XGBClassifier(eval_metric='mlogloss',base_score=0.5, use_label_encoder=True)\n",
    "model=HistGradientBoostingClassifier()\n",
    "model.fit(X_train, y_train)\n",
    "\n",
    "y_pred = model.predict(X_test)\n",
    "print(\"Accuracy:\", accuracy_score(y_test, y_pred))\n",
    "print(\"Classification Report:\\n\", classification_report(y_test, y_pred))\n",
    "ax,fig=plt.subplots(figsize=(10, 7))\n",
    "sns.heatmap(confusion_matrix(y_test, y_pred),annot=True,fmt='d', cmap='Blues')"
   ]
  },
  {
   "cell_type": "code",
   "execution_count": null,
   "id": "c4495d7e",
   "metadata": {},
   "outputs": [],
   "source": [
    "labels= label_encoder.classes_\n",
    "labels"
   ]
  },
  {
   "cell_type": "markdown",
   "id": "2d840aa5",
   "metadata": {},
   "source": [
    "## Why the result so poor???"
   ]
  },
  {
   "cell_type": "code",
   "execution_count": null,
   "id": "aa8cf954",
   "metadata": {},
   "outputs": [],
   "source": [
    "for col in data.columns:\n",
    "    if col in ['Action Label','frame_id']:\n",
    "        continue\n",
    "    sns.boxplot(x='Action Label', y=col, data=final_df,hue='ID')\n",
    "    plt.xticks(rotation=90)\n",
    "\n",
    "    plt.show()"
   ]
  },
  {
   "cell_type": "markdown",
   "id": "133e4953",
   "metadata": {},
   "source": [
    "# Relative features extraction\n",
    "\n",
    "## In this tutorial, I presented the relative position feature, which is the relative position of one body part to another. This tutorial will select left ear as basepoint for the feature.\n",
    "\n",
    "### $$ relative\\_position = position_A - position_B $$\n",
    "\n",
    "### where $A,\\;B $ is the part of body\n",
    "#### <center>____________________!!!You should note that x, y axis matters!!!____________________</center>"
   ]
  },
  {
   "cell_type": "code",
   "execution_count": null,
   "id": "411e9288",
   "metadata": {},
   "outputs": [],
   "source": [
    "\n",
    "for col in final_df_train.columns:\n",
    "    if col in ['Action Label','frame_id','ID']:\n",
    "        continue\n",
    "    if col.endswith('_x'):\n",
    "        final_df_train[col]=final_df_train['left_ear_x']-final_df_train[col]\n",
    "    if col.endswith('_y'):\n",
    "        final_df_train[col]=final_df_train['left_ear_y']-final_df_train[col]\n",
    "for col in final_df_test.columns:\n",
    "    if col in ['Action Label','frame_id','ID']:\n",
    "        continue\n",
    "    if col.endswith('_x'):\n",
    "        final_df_test[col]=final_df_test['left_ear_x']-final_df_test[col]\n",
    "    if col.endswith('_y'):\n",
    "        final_df_test[col]=final_df_test['left_ear_y']-final_df_test[col]"
   ]
  },
  {
   "cell_type": "markdown",
   "id": "d0dc14fc",
   "metadata": {},
   "source": [
    "# You may define a function to extract more feature such as angle, or velocity, or acceleration:\n",
    "### $$\\theta=arccos(\\frac{\\overrightarrow{x}.\\overrightarrow{y}}{ \\|x\\| \\|y\\|}) $$\n",
    "### $$ Vel=\\sqrt{\\Delta x^2+\\Delta y^2} $$\n",
    "### $$ Acc=\\Delta Vel $$\n",
    "\n",
    "#### this part is for you :))))))))"
   ]
  },
  {
   "cell_type": "code",
   "execution_count": 9,
   "id": "0074c084",
   "metadata": {},
   "outputs": [
    {
     "ename": "NameError",
     "evalue": "name 'personal_dir' is not defined",
     "output_type": "error",
     "traceback": [
      "\u001b[31m---------------------------------------------------------------------------\u001b[39m",
      "\u001b[31mNameError\u001b[39m                                 Traceback (most recent call last)",
      "\u001b[36mCell\u001b[39m\u001b[36m \u001b[39m\u001b[32mIn[9]\u001b[39m\u001b[32m, line 2\u001b[39m\n\u001b[32m      1\u001b[39m \u001b[38;5;28;01mimport\u001b[39;00m\u001b[38;5;250m \u001b[39m\u001b[34;01mtsfel\u001b[39;00m\n\u001b[32m----> \u001b[39m\u001b[32m2\u001b[39m cfg= tsfel.get_features_by_domain([\u001b[33m'\u001b[39m\u001b[33mstatistical\u001b[39m\u001b[33m'\u001b[39m,\u001b[33m'\u001b[39m\u001b[33mCustom\u001b[39m\u001b[33m'\u001b[39m,\u001b[33m'\u001b[39m\u001b[33mtemporal\u001b[39m\u001b[33m'\u001b[39m],json_path=personal_dir)\n\u001b[32m      3\u001b[39m \u001b[38;5;66;03m# You can chose from ['statistical', 'temporal', 'spectral', 'fractal', 'Custom'] domains\u001b[39;00m\n\u001b[32m      4\u001b[39m \n\u001b[32m      5\u001b[39m \n\u001b[32m      6\u001b[39m \u001b[38;5;66;03m# Extract time series domain features using TSFEL\u001b[39;00m\n\u001b[32m      7\u001b[39m final_df_train_tsfel = tsfel.time_series_features_extractor(cfg, final_df_train,\n\u001b[32m      8\u001b[39m                                                             window_size=\u001b[32m30\u001b[39m, overlap=\u001b[32m0.5\u001b[39m, fs=\u001b[32m30\u001b[39m,\n\u001b[32m      9\u001b[39m                                                             features_path=feature_path)\n",
      "\u001b[31mNameError\u001b[39m: name 'personal_dir' is not defined"
     ]
    }
   ],
   "source": [
    "import tsfel\n",
    "cfg= tsfel.get_features_by_domain(['statistical','Custom','temporal'],json_path=personal_dir)\n",
    "# You can chose from ['statistical', 'temporal', 'spectral', 'fractal', 'Custom'] domains\n",
    "\n",
    "\n",
    "# Extract time series domain features using TSFEL\n",
    "final_df_train_tsfel = tsfel.time_series_features_extractor(cfg, final_df_train,\n",
    "                                                            window_size=30, overlap=0.5, fs=30,\n",
    "                                                            features_path=feature_path)\n",
    "final_df_test_tsfel = tsfel.time_series_features_extractor(cfg, final_df_test, \n",
    "                                                           window_size=30, overlap=0.5, fs=30,\n",
    "                                                           features_path=feature_path)\n",
    "\n"
   ]
  },
  {
   "cell_type": "code",
   "execution_count": null,
   "id": "1b22d1e3",
   "metadata": {},
   "outputs": [],
   "source": [
    "# save Action Label as feature\n",
    "label_train = final_df_train_tsfel['Action Label_Mode']\n",
    "label_test = final_df_test_tsfel['Action Label_Mode']\n",
    "\n",
    "# remove Action Label and id columns from train set\n",
    "final_df_train_tsfel = final_df_train_tsfel.loc[:, ~final_df_train_tsfel.columns.str.contains('Action Label|id|ID')]\n",
    "final_df_train_tsfel['Action Label'] = label_train  #add Action Label column back\n",
    "\n",
    "# remove Action Label and id columns from test set\n",
    "final_df_test_tsfel = final_df_test_tsfel.loc[:, ~final_df_test_tsfel.columns.str.contains('Action Label|id|ID')]\n",
    "final_df_test_tsfel['Action Label'] = label_test #add Action Label column back"
   ]
  },
  {
   "cell_type": "code",
   "execution_count": null,
   "id": "fe5c2e7b",
   "metadata": {},
   "outputs": [],
   "source": [
    "X_train = final_df_train_tsfel.drop(columns=['Action Label']).astype(float)\n",
    "y_train= final_df_train_tsfel['Action Label'].astype(int)\n",
    "X_test = final_df_test_tsfel.drop(columns=['Action Label']).astype(float)\n",
    "y_test= final_df_test_tsfel['Action Label'].astype(int)"
   ]
  },
  {
   "cell_type": "code",
   "execution_count": null,
   "id": "db6b7dfb",
   "metadata": {},
   "outputs": [],
   "source": [
    "from xgboost import XGBClassifier\n",
    "from sklearn.ensemble import RandomForestClassifier, HistGradientBoostingClassifier\n",
    "from sklearn.metrics import accuracy_score, classification_report, confusion_matrix\n",
    "# model = XGBClassifier(eval_metric='mlogloss',base_score=0.5, use_label_encoder=True)\n",
    "model=HistGradientBoostingClassifier()\n",
    "model.fit(X_train, y_train)\n",
    "\n",
    "y_pred = model.predict(X_test)\n",
    "print(\"Accuracy:\", accuracy_score(y_test, y_pred))\n",
    "print(\"Classification Report:\\n\", classification_report(y_test, y_pred))\n",
    "ax,fig=plt.subplots(figsize=(10, 7))\n",
    "sns.heatmap(confusion_matrix(y_test, y_pred),annot=True,fmt='d', cmap='Blues')"
   ]
  },
  {
   "cell_type": "code",
   "execution_count": null,
   "id": "1a6288d5",
   "metadata": {},
   "outputs": [],
   "source": [
    "labels= label_encoder.classes_\n",
    "labels"
   ]
  },
  {
   "cell_type": "code",
   "execution_count": null,
   "id": "ed5fb4d0",
   "metadata": {},
   "outputs": [],
   "source": []
  },
  {
   "cell_type": "code",
   "execution_count": null,
   "id": "41f57cb4",
   "metadata": {},
   "outputs": [],
   "source": []
  },
  {
   "cell_type": "code",
   "execution_count": null,
   "id": "2c43d008",
   "metadata": {},
   "outputs": [],
   "source": []
  },
  {
   "cell_type": "code",
   "execution_count": null,
   "id": "443f6fa0",
   "metadata": {},
   "outputs": [],
   "source": []
  },
  {
   "cell_type": "code",
   "execution_count": null,
   "id": "46995e4c",
   "metadata": {},
   "outputs": [],
   "source": []
  },
  {
   "cell_type": "code",
   "execution_count": null,
   "id": "67171eac",
   "metadata": {},
   "outputs": [],
   "source": []
  },
  {
   "cell_type": "code",
   "execution_count": null,
   "id": "5870aa79",
   "metadata": {},
   "outputs": [],
   "source": []
  },
  {
   "cell_type": "code",
   "execution_count": null,
   "id": "3570e0eb",
   "metadata": {},
   "outputs": [],
   "source": []
  },
  {
   "cell_type": "code",
   "execution_count": null,
   "id": "0e521232",
   "metadata": {},
   "outputs": [],
   "source": []
  },
  {
   "cell_type": "code",
   "execution_count": null,
   "id": "4cd6497b",
   "metadata": {},
   "outputs": [],
   "source": []
  },
  {
   "cell_type": "code",
   "execution_count": null,
   "id": "66351f25",
   "metadata": {},
   "outputs": [],
   "source": []
  },
  {
   "cell_type": "code",
   "execution_count": null,
   "id": "6868a4e1",
   "metadata": {},
   "outputs": [],
   "source": []
  }
 ],
 "metadata": {
  "kernelspec": {
   "display_name": "myenv",
   "language": "python",
   "name": "myenv"
  },
  "language_info": {
   "codemirror_mode": {
    "name": "ipython",
    "version": 3
   },
   "file_extension": ".py",
   "mimetype": "text/x-python",
   "name": "python",
   "nbconvert_exporter": "python",
   "pygments_lexer": "ipython3",
   "version": "3.11.11"
  }
 },
 "nbformat": 4,
 "nbformat_minor": 5
}
