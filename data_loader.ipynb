{
 "cells": [
  {
   "cell_type": "code",
   "execution_count": null,
   "id": "0e71a231",
   "metadata": {},
   "outputs": [],
   "source": [
    "import pandas as pd\n",
    "import seaborn as sns\n",
    "import matplotlib.pyplot as plt"
   ]
  },
  {
   "cell_type": "code",
   "execution_count": null,
   "id": "e003ed96",
   "metadata": {},
   "outputs": [],
   "source": [
    "def fix_labels(label):\n",
    "    if label=='Throwing':\n",
    "        return 'Throwing things'\n",
    "    return label"
   ]
  },
  {
   "cell_type": "markdown",
   "id": "4992d15a",
   "metadata": {},
   "source": [
    "# Label Encoder"
   ]
  },
  {
   "cell_type": "code",
   "execution_count": null,
   "id": "a8993f1b",
   "metadata": {},
   "outputs": [],
   "source": [
    "# import label encoder\n",
    "from sklearn.preprocessing import LabelEncoder\n",
    "data=pd.read_csv('./real_data/keypoints_with_labels_1.csv')\n",
    "data=data.dropna(subset=['Action Label'])\n",
    "y=data['Action Label'].to_numpy()\n",
    "label_encoder = LabelEncoder()\n",
    "data['Action Label'] = label_encoder .fit_transform(y)\n",
    "# data['Action Label'].value_counts().plot(kind='bar')\n",
    "\n"
   ]
  },
  {
   "cell_type": "markdown",
   "id": "ce61cea3",
   "metadata": {},
   "source": [
    "# Load dataset"
   ]
  },
  {
   "cell_type": "code",
   "execution_count": null,
   "id": "cac5e29e",
   "metadata": {},
   "outputs": [],
   "source": [
    "dfs = []\n",
    "import os\n",
    "for file in os.listdir('./real_data/'):\n",
    "    print('file ', file)\n",
    "    if file.endswith('.csv'):\n",
    "        df = pd.read_csv(os.path.join('./real_data/', file)).dropna(subset=['Action Label'])\n",
    "        print(df['Action Label'].unique())\n",
    "        df['Action Label'] = df['Action Label'].apply(fix_labels)\n",
    "        df['Action Label'] = label_encoder.transform(df['Action Label'])\n",
    "        df['Action Label'] =df['Action Label'].astype('category')\n",
    "        df['ID']= file.split('.')[0].split('_')[-1]\n",
    "        df['ID']=df['ID'].astype('category')\n",
    "        dfs.append(df)"
   ]
  },
  {
   "cell_type": "code",
   "execution_count": null,
   "id": "14c2ff11",
   "metadata": {},
   "outputs": [],
   "source": [
    "final_df=pd.concat(dfs, ignore_index=True)\n",
    "final_df['Action Label'].value_counts().plot(kind='bar')"
   ]
  },
  {
   "cell_type": "markdown",
   "id": "9dcb17d5",
   "metadata": {},
   "source": [
    "# Data Visualization"
   ]
  },
  {
   "cell_type": "code",
   "execution_count": null,
   "id": "d5566534",
   "metadata": {},
   "outputs": [],
   "source": [
    "for col in data.columns:\n",
    "    if col in ['Action Label','frame_id']:\n",
    "        continue\n",
    "    sns.boxplot(x='Action Label', y=col, data=final_df)\n",
    "    plt.xticks(rotation=90)\n",
    "\n",
    "    plt.show()"
   ]
  },
  {
   "cell_type": "markdown",
   "id": "104c1c02",
   "metadata": {},
   "source": [
    "# Split train-test"
   ]
  },
  {
   "cell_type": "code",
   "execution_count": null,
   "id": "d82be92b",
   "metadata": {},
   "outputs": [],
   "source": [
    "final_df_train=final_df[final_df['ID']!='1']\n",
    "final_df_test=final_df[final_df['ID']=='1']"
   ]
  },
  {
   "cell_type": "code",
   "execution_count": null,
   "id": "3aa219d7",
   "metadata": {},
   "outputs": [],
   "source": [
    "final_df_test"
   ]
  },
  {
   "cell_type": "markdown",
   "id": "9f07d515",
   "metadata": {},
   "source": [
    "# Extract time series domain features\n",
    "## In this tutorial tsfel was chosen to demonstrate to you. But you can use any library or you may even self writing code for that :)"
   ]
  },
  {
   "cell_type": "code",
   "execution_count": null,
   "id": "a42590be",
   "metadata": {},
   "outputs": [],
   "source": [
    "personal_dir='./tsfel_feat.json'\n",
    "feature_path='./custom_features.py'"
   ]
  },
  {
   "cell_type": "code",
   "execution_count": null,
   "id": "f1c5e3c5",
   "metadata": {},
   "outputs": [],
   "source": [
    "from tsfel.utils.add_personal_features import add_feature_json\n",
    "add_feature_json('./custom_features.py',personal_dir)"
   ]
  },
  {
   "cell_type": "code",
   "execution_count": null,
   "id": "a375746d",
   "metadata": {},
   "outputs": [],
   "source": [
    "import tsfel\n",
    "cfg= tsfel.get_features_by_domain(['statistical','Custom','temporal'],json_path=personal_dir)\n",
    "# You can chose from ['statistical', 'temporal', 'spectral', 'fractal', 'Custom'] domains\n",
    "\n",
    "\n",
    "# Extract time series domain features using TSFEL\n",
    "final_df_train_tsfel = tsfel.time_series_features_extractor(cfg, final_df_train,\n",
    "                                                            window_size=30, overlap=0.5, fs=30,\n",
    "                                                            features_path=feature_path)\n",
    "final_df_test_tsfel = tsfel.time_series_features_extractor(cfg, final_df_test, \n",
    "                                                           window_size=30, overlap=0.5, fs=30,\n",
    "                                                           features_path=feature_path)\n",
    "\n"
   ]
  },
  {
   "cell_type": "code",
   "execution_count": null,
   "id": "b59f517c",
   "metadata": {},
   "outputs": [],
   "source": [
    "# save Action Label as feature\n",
    "label_train = final_df_train_tsfel['Action Label_Mode']\n",
    "label_test = final_df_test_tsfel['Action Label_Mode']\n",
    "\n",
    "# remove Action Label and id columns from train set\n",
    "final_df_train_tsfel = final_df_train_tsfel.loc[:, ~final_df_train_tsfel.columns.str.contains('Action Label|id|ID')]\n",
    "final_df_train_tsfel['Action Label'] = label_train  #add Action Label column back\n",
    "\n",
    "# remove Action Label and id columns from test set\n",
    "final_df_test_tsfel = final_df_test_tsfel.loc[:, ~final_df_test_tsfel.columns.str.contains('Action Label|id|ID')]\n",
    "final_df_test_tsfel['Action Label'] = label_test #add Action Label column back"
   ]
  },
  {
   "cell_type": "code",
   "execution_count": null,
   "id": "a323f44d",
   "metadata": {},
   "outputs": [],
   "source": [
    "X_train = final_df_train_tsfel.drop(columns=['Action Label']).astype(float)\n",
    "y_train= final_df_train_tsfel['Action Label'].astype(int)\n",
    "X_test = final_df_test_tsfel.drop(columns=['Action Label']).astype(float)\n",
    "y_test= final_df_test_tsfel['Action Label'].astype(int)"
   ]
  },
  {
   "cell_type": "code",
   "execution_count": null,
   "id": "622b3462",
   "metadata": {},
   "outputs": [],
   "source": [
    "X_train.shape, y_train.shape, X_test.shape, y_test.shape"
   ]
  },
  {
   "cell_type": "markdown",
   "id": "a4a70387",
   "metadata": {},
   "source": [
    "# Machine learning models"
   ]
  },
  {
   "cell_type": "code",
   "execution_count": null,
   "id": "475cad97",
   "metadata": {},
   "outputs": [],
   "source": [
    "from xgboost import XGBClassifier\n",
    "from sklearn.ensemble import RandomForestClassifier, HistGradientBoostingClassifier\n",
    "from sklearn.metrics import accuracy_score, classification_report, confusion_matrix\n",
    "# model = XGBClassifier(eval_metric='mlogloss',base_score=0.5, use_label_encoder=True)\n",
    "model=HistGradientBoostingClassifier()\n",
    "model.fit(X_train, y_train)\n",
    "\n",
    "y_pred = model.predict(X_test)\n",
    "print(\"Accuracy:\", accuracy_score(y_test, y_pred))\n",
    "print(\"Classification Report:\\n\", classification_report(y_test, y_pred))\n",
    "ax,fig=plt.subplots(figsize=(10, 7))\n",
    "sns.heatmap(confusion_matrix(y_test, y_pred),annot=True,fmt='d', cmap='Blues')"
   ]
  },
  {
   "cell_type": "code",
   "execution_count": null,
   "id": "c4495d7e",
   "metadata": {},
   "outputs": [],
   "source": [
    "labels= label_encoder.classes_\n",
    "labels"
   ]
  },
  {
   "cell_type": "markdown",
   "id": "2d840aa5",
   "metadata": {},
   "source": [
    "## Why the result so poor???"
   ]
  },
  {
   "cell_type": "code",
   "execution_count": null,
   "id": "aa8cf954",
   "metadata": {},
   "outputs": [],
   "source": [
    "for col in data.columns:\n",
    "    if col in ['Action Label','frame_id']:\n",
    "        continue\n",
    "    sns.boxplot(x='Action Label', y=col, data=final_df,hue='ID')\n",
    "    plt.xticks(rotation=90)\n",
    "\n",
    "    plt.show()"
   ]
  },
  {
   "cell_type": "markdown",
   "id": "133e4953",
   "metadata": {},
   "source": [
    "# Relative features extraction\n",
    "\n",
    "## In this tutorial, I presented the relative position feature, which is the relative position of one body part to another. This tutorial will select left ear as basepoint for the feature.\n",
    "\n",
    "### $$ relative\\_position = position_A - position_B $$\n",
    "\n",
    "### where $A,\\;B $ is the part of body\n",
    "#### <center>____________________!!!You should note that x, y axis matters!!!____________________</center>"
   ]
  },
  {
   "cell_type": "code",
   "execution_count": null,
   "id": "411e9288",
   "metadata": {},
   "outputs": [],
   "source": [
    "\n",
    "for col in final_df_train.columns:\n",
    "    if col in ['Action Label','frame_id','ID']:\n",
    "        continue\n",
    "    if col.endswith('_x'):\n",
    "        final_df_train[col]=final_df_train['left_ear_x']-final_df_train[col]\n",
    "    if col.endswith('_y'):\n",
    "        final_df_train[col]=final_df_train['left_ear_y']-final_df_train[col]\n",
    "for col in final_df_test.columns:\n",
    "    if col in ['Action Label','frame_id','ID']:\n",
    "        continue\n",
    "    if col.endswith('_x'):\n",
    "        final_df_test[col]=final_df_test['left_ear_x']-final_df_test[col]\n",
    "    if col.endswith('_y'):\n",
    "        final_df_test[col]=final_df_test['left_ear_y']-final_df_test[col]"
   ]
  },
  {
   "cell_type": "markdown",
   "id": "d0dc14fc",
   "metadata": {},
   "source": [
    "# You may define a function to extract more feature such as angle, or velocity, or acceleration:\n",
    "### $$\\theta=arccos(\\frac{\\overrightarrow{x}.\\overrightarrow{y}}{ \\|x\\| \\|y\\|}) $$\n",
    "### $$ Vel=\\sqrt{\\Delta x^2+\\Delta y^2} $$\n",
    "### $$ Acc=\\Delta Vel $$\n",
    "\n",
    "#### this part is for you :))))))))"
   ]
  },
  {
   "cell_type": "code",
   "execution_count": 9,
   "id": "0074c084",
   "metadata": {},
   "outputs": [
    {
     "ename": "NameError",
     "evalue": "name 'personal_dir' is not defined",
     "output_type": "error",
     "traceback": [
      "\u001b[31m---------------------------------------------------------------------------\u001b[39m",
      "\u001b[31mNameError\u001b[39m                                 Traceback (most recent call last)",
      "\u001b[36mCell\u001b[39m\u001b[36m \u001b[39m\u001b[32mIn[9]\u001b[39m\u001b[32m, line 2\u001b[39m\n\u001b[32m      1\u001b[39m \u001b[38;5;28;01mimport\u001b[39;00m\u001b[38;5;250m \u001b[39m\u001b[34;01mtsfel\u001b[39;00m\n\u001b[32m----> \u001b[39m\u001b[32m2\u001b[39m cfg= tsfel.get_features_by_domain([\u001b[33m'\u001b[39m\u001b[33mstatistical\u001b[39m\u001b[33m'\u001b[39m,\u001b[33m'\u001b[39m\u001b[33mCustom\u001b[39m\u001b[33m'\u001b[39m,\u001b[33m'\u001b[39m\u001b[33mtemporal\u001b[39m\u001b[33m'\u001b[39m],json_path=personal_dir)\n\u001b[32m      3\u001b[39m \u001b[38;5;66;03m# You can chose from ['statistical', 'temporal', 'spectral', 'fractal', 'Custom'] domains\u001b[39;00m\n\u001b[32m      4\u001b[39m \n\u001b[32m      5\u001b[39m \n\u001b[32m      6\u001b[39m \u001b[38;5;66;03m# Extract time series domain features using TSFEL\u001b[39;00m\n\u001b[32m      7\u001b[39m final_df_train_tsfel = tsfel.time_series_features_extractor(cfg, final_df_train,\n\u001b[32m      8\u001b[39m                                                             window_size=\u001b[32m30\u001b[39m, overlap=\u001b[32m0.5\u001b[39m, fs=\u001b[32m30\u001b[39m,\n\u001b[32m      9\u001b[39m                                                             features_path=feature_path)\n",
      "\u001b[31mNameError\u001b[39m: name 'personal_dir' is not defined"
     ]
    }
   ],
   "source": [
    "import tsfel\n",
    "cfg= tsfel.get_features_by_domain(['statistical','Custom','temporal'],json_path=personal_dir)\n",
    "# You can chose from ['statistical', 'temporal', 'spectral', 'fractal', 'Custom'] domains\n",
    "\n",
    "\n",
    "# Extract time series domain features using TSFEL\n",
    "final_df_train_tsfel = tsfel.time_series_features_extractor(cfg, final_df_train,\n",
    "                                                            window_size=30, overlap=0.5, fs=30,\n",
    "                                                            features_path=feature_path)\n",
    "final_df_test_tsfel = tsfel.time_series_features_extractor(cfg, final_df_test, \n",
    "                                                           window_size=30, overlap=0.5, fs=30,\n",
    "                                                           features_path=feature_path)\n",
    "\n"
   ]
  },
  {
   "cell_type": "code",
   "execution_count": null,
   "id": "1b22d1e3",
   "metadata": {},
   "outputs": [],
   "source": [
    "# save Action Label as feature\n",
    "label_train = final_df_train_tsfel['Action Label_Mode']\n",
    "label_test = final_df_test_tsfel['Action Label_Mode']\n",
    "\n",
    "# remove Action Label and id columns from train set\n",
    "final_df_train_tsfel = final_df_train_tsfel.loc[:, ~final_df_train_tsfel.columns.str.contains('Action Label|id|ID')]\n",
    "final_df_train_tsfel['Action Label'] = label_train  #add Action Label column back\n",
    "\n",
    "# remove Action Label and id columns from test set\n",
    "final_df_test_tsfel = final_df_test_tsfel.loc[:, ~final_df_test_tsfel.columns.str.contains('Action Label|id|ID')]\n",
    "final_df_test_tsfel['Action Label'] = label_test #add Action Label column back"
   ]
  },
  {
   "cell_type": "code",
   "execution_count": null,
   "id": "fe5c2e7b",
   "metadata": {},
   "outputs": [],
   "source": [
    "X_train = final_df_train_tsfel.drop(columns=['Action Label']).astype(float)\n",
    "y_train= final_df_train_tsfel['Action Label'].astype(int)\n",
    "X_test = final_df_test_tsfel.drop(columns=['Action Label']).astype(float)\n",
    "y_test= final_df_test_tsfel['Action Label'].astype(int)"
   ]
  },
  {
   "cell_type": "code",
   "execution_count": null,
   "id": "db6b7dfb",
   "metadata": {},
   "outputs": [],
   "source": [
    "from xgboost import XGBClassifier\n",
    "from sklearn.ensemble import RandomForestClassifier, HistGradientBoostingClassifier\n",
    "from sklearn.metrics import accuracy_score, classification_report, confusion_matrix\n",
    "# model = XGBClassifier(eval_metric='mlogloss',base_score=0.5, use_label_encoder=True)\n",
    "model=HistGradientBoostingClassifier()\n",
    "model.fit(X_train, y_train)\n",
    "\n",
    "y_pred = model.predict(X_test)\n",
    "print(\"Accuracy:\", accuracy_score(y_test, y_pred))\n",
    "print(\"Classification Report:\\n\", classification_report(y_test, y_pred))\n",
    "ax,fig=plt.subplots(figsize=(10, 7))\n",
    "sns.heatmap(confusion_matrix(y_test, y_pred),annot=True,fmt='d', cmap='Blues')"
   ]
  },
  {
   "cell_type": "code",
   "execution_count": null,
   "id": "1a6288d5",
   "metadata": {},
   "outputs": [],
   "source": [
    "labels= label_encoder.classes_\n",
    "labels"
   ]
  },
  {
   "cell_type": "code",
   "execution_count": null,
   "id": "ed5fb4d0",
   "metadata": {},
   "outputs": [],
   "source": []
  },
  {
   "cell_type": "code",
   "execution_count": null,
   "id": "41f57cb4",
   "metadata": {},
   "outputs": [],
   "source": []
  },
  {
   "cell_type": "code",
   "execution_count": null,
   "id": "2c43d008",
   "metadata": {},
   "outputs": [],
   "source": []
  },
  {
   "cell_type": "code",
   "execution_count": null,
   "id": "443f6fa0",
   "metadata": {},
   "outputs": [],
   "source": []
  },
  {
   "cell_type": "code",
   "execution_count": null,
   "id": "46995e4c",
   "metadata": {},
   "outputs": [],
   "source": []
  },
  {
   "cell_type": "code",
   "execution_count": null,
   "id": "67171eac",
   "metadata": {},
   "outputs": [],
   "source": []
  },
  {
   "cell_type": "code",
   "execution_count": null,
   "id": "5870aa79",
   "metadata": {},
   "outputs": [],
   "source": []
  },
  {
   "cell_type": "code",
   "execution_count": null,
   "id": "3570e0eb",
   "metadata": {},
   "outputs": [],
   "source": []
  },
  {
   "cell_type": "code",
   "execution_count": null,
   "id": "0e521232",
   "metadata": {},
   "outputs": [],
   "source": []
  },
  {
   "cell_type": "code",
   "execution_count": null,
   "id": "4cd6497b",
   "metadata": {},
   "outputs": [],
   "source": []
  },
  {
   "cell_type": "code",
   "execution_count": null,
   "id": "66351f25",
   "metadata": {},
   "outputs": [],
   "source": []
  },
  {
   "cell_type": "code",
   "execution_count": null,
   "id": "6868a4e1",
   "metadata": {},
   "outputs": [],
   "source": [
    "\n",
    "# import pandas as pd\n",
    "# import matplotlib.pyplot as plt\n",
    "# import os\n",
    "# import numpy as np\n",
    "\n",
    "# # Define the keypoints and their connections for drawing the skeleton.\n",
    "# # This assumes a 17-point model similar to COCO.\n",
    "# # Adjust KEYPOINT_NAMES and SKELETON_CONNECTIONS if your CSV uses a different set of keypoints.\n",
    "# KEYPOINT_NAMES = [\n",
    "#     'nose', 'left_eye', 'right_eye', 'left_ear', 'right_ear',\n",
    "#     'left_shoulder', 'right_shoulder', 'left_elbow', 'right_elbow',\n",
    "#     'left_wrist', 'right_wrist', 'left_hip', 'right_hip',\n",
    "#     'left_knee', 'right_knee', 'left_ankle', 'right_ankle'\n",
    "# ]\n",
    "\n",
    "# SKELETON_CONNECTIONS = [\n",
    "#     # Head\n",
    "#     ('nose', 'left_eye'), ('nose', 'right_eye'),\n",
    "#     ('left_eye', 'left_ear'), ('right_eye', 'right_ear'),\n",
    "#     # Torso\n",
    "#     ('left_shoulder', 'right_shoulder'), ('left_hip', 'right_hip'),\n",
    "#     ('left_shoulder', 'left_hip'), ('right_shoulder', 'right_hip'),\n",
    "#     # Left arm\n",
    "#     ('left_shoulder', 'left_elbow'), ('left_elbow', 'left_wrist'),\n",
    "#     # Right arm\n",
    "#     ('right_shoulder', 'right_elbow'), ('right_elbow', 'right_wrist'),\n",
    "#     # Left leg\n",
    "#     ('left_hip', 'left_knee'), ('left_knee', 'left_ankle'),\n",
    "#     # Right leg\n",
    "#     ('right_hip', 'right_knee'), ('right_knee', 'right_ankle')\n",
    "# ]\n",
    "\n",
    "# # --- Configuration ---\n",
    "\n",
    "\n",
    "\n",
    "# def draw_pose(pose_data_row, frame_id, action_label):\n",
    "#     \"\"\"\n",
    "#     Draws a single pose and saves it as an image.\n",
    "\n",
    "#     Args:\n",
    "#         pose_data_row (pd.Series): A row from the DataFrame containing keypoint coordinates and label.\n",
    "#         frame_id (int): The identifier for this frame (e.g., row index).\n",
    "#         action_label (str): The action label for this pose.\n",
    "#     \"\"\"\n",
    "#     if frame_id % 100 != 0:  # Print progress every 100 frames\n",
    "#         return\n",
    "#     keypoints = {}\n",
    "#     valid_keypoints_present = False\n",
    "#     for kp_name in KEYPOINT_NAMES:\n",
    "#         x_col, y_col = f'{kp_name}_x', f'{kp_name}_y'\n",
    "#         if x_col in pose_data_row and y_col in pose_data_row:\n",
    "#             x, y = pose_data_row[x_col], pose_data_row[y_col]\n",
    "#             # Check if coordinates are valid numbers (not NaN)\n",
    "#             if pd.notna(x) and pd.notna(y):\n",
    "#                 keypoints[kp_name] = (float(x), float(y))\n",
    "#                 valid_keypoints_present = True\n",
    "#         else:\n",
    "#             # print(f\"Warning: Keypoint columns {x_col} or {y_col} not found for frame {frame_id}.\")\n",
    "#             pass # Silently skip if columns are missing\n",
    "\n",
    "#     if not valid_keypoints_present:\n",
    "#         print(f\"Skipping frame {frame_id} for label '{action_label}' due to no valid keypoints.\")\n",
    "#         return\n",
    "\n",
    "#     fig, ax = plt.subplots(figsize=IMAGE_FIGSIZE)\n",
    "\n",
    "#     # Plot connections\n",
    "#     for kp_name1, kp_name2 in SKELETON_CONNECTIONS:\n",
    "#         if kp_name1 in keypoints and kp_name2 in keypoints:\n",
    "#             x1, y1 = keypoints[kp_name1]\n",
    "#             x2, y2 = keypoints[kp_name2]\n",
    "#             ax.plot([x1, x2], [y1, y2], color=SKELETON_LINE_COLOR, linewidth=SKELETON_LINE_WIDTH, zorder=1)\n",
    "\n",
    "#     # Plot keypoints\n",
    "#     for kp_name, (x, y) in keypoints.items():\n",
    "#         ax.plot(x, y, 'o', color=JOINT_COLOR, markersize=JOINT_SIZE, zorder=2)\n",
    "#     # hide x and y ticks\n",
    "#     ax.set_xticks([])\n",
    "#     ax.set_yticks([])\n",
    "#     # hide the border\n",
    "#     for spine in ax.spines.values():\n",
    "#         spine.set_visible(False)\n",
    "\n",
    "#     # Set plot appearance\n",
    "#     # ax.set_title(f'Action: {action_label} - Frame: {frame_id}')\n",
    "#     # ax.set_xlabel('X coordinate')\n",
    "#     # ax.set_ylabel('Y coordinate')\n",
    "    \n",
    "#     # Invert Y axis to match typical image coordinate systems (origin at top-left)\n",
    "#     ax.invert_yaxis()\n",
    "#     # Ensure aspect ratio is equal so the skeleton is not distorted\n",
    "#     ax.set_aspect('equal', adjustable='box')\n",
    "    \n",
    "#     # Determine plot limits based on keypoint data\n",
    "#     all_x = [kp[0] for kp in keypoints.values()]\n",
    "#     all_y = [kp[1] for kp in keypoints.values()]\n",
    "\n",
    "#     if all_x and all_y: # Ensure there are points to calculate limits from\n",
    "#         min_x, max_x = min(all_x), max(all_x)\n",
    "#         min_y, max_y = min(all_y), max(all_y)\n",
    "        \n",
    "#         # Add some padding\n",
    "#         padding_x = (max_x - min_x) * 0.1 if (max_x - min_x) > 0 else 10\n",
    "#         padding_y = (max_y - min_y) * 0.1 if (max_y - min_y) > 0 else 10\n",
    "        \n",
    "#         ax.set_xlim(min_x - padding_x, max_x + padding_x)\n",
    "#         ax.set_ylim(max_y + padding_y, min_y - padding_y) # Y-axis is inverted\n",
    "#     else: # Default view if no keypoints or single keypoint\n",
    "#         ax.autoscale_view()\n",
    "\n",
    "\n",
    "#     # Create directory and save image\n",
    "#     output_dir = os.path.join(OUTPUT_BASE_DIR, str(action_label))\n",
    "#     os.makedirs(output_dir, exist_ok=True)\n",
    "    \n",
    "#     # Sanitize frame_id for filename (if it could be non-integer or problematic)\n",
    "#     safe_frame_id = str(frame_id).replace('/', '_').replace('\\\\', '_')\n",
    "#     output_path = os.path.join(output_dir, f'{safe_frame_id}.png')\n",
    "    \n",
    "#     try:\n",
    "#         plt.savefig(output_path)\n",
    "#         # print(f'Saved: {output_path}')\n",
    "#     except Exception as e:\n",
    "#         print(f\"Error saving figure {output_path}: {e}\")\n",
    "#     finally:\n",
    "#         plt.close(fig) # Close the figure to free memory\n",
    "\n",
    "# def main():\n",
    "#     # Check if CSV file exists\n",
    "#     if not os.path.exists(CSV_FILE_PATH):\n",
    "#         print(f\"Error: CSV file not found at '{CSV_FILE_PATH}'\")\n",
    "#         print(\"Please make sure the file is in the same directory as the script, or provide the full path.\")\n",
    "#         return\n",
    "\n",
    "#     # Load the dataset\n",
    "#     try:\n",
    "#         df = pd.read_csv(CSV_FILE_PATH)\n",
    "#     except Exception as e:\n",
    "#         print(f\"Error reading CSV file: {e}\")\n",
    "#         return\n",
    "\n",
    "#     # Ensure the 'label' column exists\n",
    "#     if 'Action Label' not in df.columns:\n",
    "#         print(\"Error: 'label' column not found in the CSV file.\")\n",
    "#         print(f\"Available columns are: {df.columns.tolist()}\")\n",
    "#         return\n",
    "        \n",
    "#     print(f\"Processing {len(df)} poses from '{CSV_FILE_PATH}'...\")\n",
    "\n",
    "#     # Iterate over each row (pose) in the DataFrame\n",
    "#     for index, row in df.iterrows():\n",
    "#         action_label = row['Action Label']\n",
    "#         # Sanitize action_label for directory name\n",
    "#         # Replace characters that are problematic for directory names\n",
    "#         safe_action_label = str(action_label).replace('/', '_').replace('\\\\', '_').replace(':', '_').replace('*', '_').replace('?', '_').replace('\"', '_').replace('<', '_').replace('>', '_').replace('|', '_').strip()\n",
    "#         if not safe_action_label: # Handle empty or whitespace-only labels\n",
    "#             safe_action_label = \"unknown_action\"\n",
    "            \n",
    "#         draw_pose(row, index, safe_action_label)\n",
    "#         if (index + 1) % 50 == 0: # Print progress every 50 frames\n",
    "#              print(f\"Processed {index + 1}/{len(df)} frames...\")\n",
    "\n",
    "\n",
    "#     print(f\"Finished processing. Skeleton images saved in '{OUTPUT_BASE_DIR}'\")\n",
    "# for i in os.listdir('./real_data'):\n",
    "#     id=i.split('.')[0].split('_')[-1]\n",
    "#     CSV_FILE_PATH = f'./real_data/keypoints_with_labels_{id}.csv'\n",
    "#     OUTPUT_BASE_DIR = f'./skeleton_frames/{id}'\n",
    "#     IMAGE_FIGSIZE = (8, 8)  # Width, Height in inches for the output image\n",
    "#     SKELETON_LINE_COLOR = 'cornflowerblue'\n",
    "#     SKELETON_LINE_WIDTH = 2\n",
    "#     JOINT_COLOR = 'orangered'\n",
    "#     JOINT_SIZE = 5\n",
    "#     main()"
   ]
  }
 ],
 "metadata": {
  "kernelspec": {
   "display_name": "myenv",
   "language": "python",
   "name": "myenv"
  },
  "language_info": {
   "codemirror_mode": {
    "name": "ipython",
    "version": 3
   },
   "file_extension": ".py",
   "mimetype": "text/x-python",
   "name": "python",
   "nbconvert_exporter": "python",
   "pygments_lexer": "ipython3",
   "version": "3.11.11"
  }
 },
 "nbformat": 4,
 "nbformat_minor": 5
}
